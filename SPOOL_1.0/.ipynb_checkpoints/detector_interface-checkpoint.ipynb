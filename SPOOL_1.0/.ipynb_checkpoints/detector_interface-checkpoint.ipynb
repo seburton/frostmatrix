{
 "cells": [
  {
   "cell_type": "code",
   "execution_count": 1,
   "id": "6d449119-f091-4ea3-b24f-f01b0cd82520",
   "metadata": {},
   "outputs": [],
   "source": [
    "import numpy as np\n",
    "import pandas as pd\n",
    "import scipy.io as io\n",
    "from datetime import datetime, timedelta, timezone\n",
    "\n",
    "import catalog_management as cm\n",
    "from Spool import spool\n",
    "from readers import reader\n",
    "from obspy import read"
   ]
  },
  {
   "cell_type": "code",
   "execution_count": 2,
   "id": "0fb87095-2690-4ab7-b975-4b161566db31",
   "metadata": {},
   "outputs": [],
   "source": [
    "#define root data folder\n",
    "root_folder = '/Users/sburton/Work/Data/Data_345'\n",
    "\n",
    "# get existing catalogs and make sure start and end times are np.datetime\n",
    "data_catalog = pd.read_csv('data_catalog.csv')\n",
    "data_catalog['Start_Time'] = pd.to_datetime(data_catalog['Start_Time']).values.astype('datetime64[ns]')\n",
    "data_catalog['End_Time'] = pd.to_datetime(data_catalog['End_Time']).values.astype('datetime64[ns]')"
   ]
  },
  {
   "cell_type": "code",
   "execution_count": 3,
   "id": "358e4ca3-ec33-4c8b-be3e-0ea6af96ea27",
   "metadata": {},
   "outputs": [
    {
     "name": "stderr",
     "output_type": "stream",
     "text": [
      "/Users/sburton/Library/CloudStorage/OneDrive-Colostate/Work/SPOOL_1.0/catalog_management.py:149: UserWarning: no explicit representation of timezones available for np.datetime64\n",
      "  start_times.append(np.datetime64(start_dt))\n",
      "/Users/sburton/Library/CloudStorage/OneDrive-Colostate/Work/SPOOL_1.0/catalog_management.py:150: UserWarning: no explicit representation of timezones available for np.datetime64\n",
      "  end_times.append(np.datetime64(end_dt))\n",
      "/Users/sburton/Library/CloudStorage/OneDrive-Colostate/Work/SPOOL_1.0/catalog_management.py:163: UserWarning: no explicit representation of timezones available for np.datetime64\n",
      "  start_times.append(np.datetime64(start_dt))\n",
      "/Users/sburton/Library/CloudStorage/OneDrive-Colostate/Work/SPOOL_1.0/catalog_management.py:164: UserWarning: no explicit representation of timezones available for np.datetime64\n",
      "  end_times.append(np.datetime64(end_dt))\n"
     ]
    }
   ],
   "source": [
    "# construct a catalog of detections\n",
    "detections_catalog = cm.make_detection_catalog('/Users/sburton/Library/CloudStorage/OneDrive-Colostate/Work/bulk_data_extraction/erupt_detects_345.mat')\n",
    "detections_catalog['Start_Times'] = pd.to_datetime(detections_catalog['Start_Times']).values.astype('datetime64[ns]')\n",
    "detections_catalog['End_Times'] = pd.to_datetime(detections_catalog['End_Times']).values.astype('datetime64[ns]')\n",
    "threshold = detections_catalog['PKS'].quantile(0.995)\n",
    "top_tenp_detections = detections_catalog[detections_catalog['PKS'] >= threshold]"
   ]
  },
  {
   "cell_type": "code",
   "execution_count": 4,
   "id": "52119467-7ed3-454f-b6fd-7da1ea0bb41c",
   "metadata": {},
   "outputs": [],
   "source": [
    "# initiate spool using data catalog and reader function (imported from readers)\n",
    "sp = spool(data_catalog, reader, sr=200.0)"
   ]
  },
  {
   "cell_type": "code",
   "execution_count": 5,
   "id": "9f64a797-69cf-461c-879e-d908027dbcd3",
   "metadata": {},
   "outputs": [],
   "source": [
    "# extract top 10% of detections\n",
    "for i, det in top_tenp_detections.iterrows():\n",
    "    starttime = det['Start_Times']\n",
    "    endtime = det['End_Times']\n",
    "\n",
    "    sp.get_data(starttime, endtime, save_dir='Test/Templates/')"
   ]
  },
  {
   "cell_type": "code",
   "execution_count": null,
   "id": "e5b7ecc1-9a05-4370-9e5f-b7d5c37093f3",
   "metadata": {},
   "outputs": [],
   "source": []
  },
  {
   "cell_type": "code",
   "execution_count": null,
   "id": "0a82df45-b5d2-497e-ab8f-5a2df495d36a",
   "metadata": {},
   "outputs": [],
   "source": []
  }
 ],
 "metadata": {
  "kernelspec": {
   "display_name": "Python 3 (ipykernel)",
   "language": "python",
   "name": "python3"
  },
  "language_info": {
   "codemirror_mode": {
    "name": "ipython",
    "version": 3
   },
   "file_extension": ".py",
   "mimetype": "text/x-python",
   "name": "python",
   "nbconvert_exporter": "python",
   "pygments_lexer": "ipython3",
   "version": "3.10.18"
  }
 },
 "nbformat": 4,
 "nbformat_minor": 5
}
