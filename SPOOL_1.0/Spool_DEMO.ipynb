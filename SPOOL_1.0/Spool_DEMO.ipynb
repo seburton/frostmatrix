{
 "cells": [
  {
   "cell_type": "markdown",
   "id": "ca888c1b-d317-4527-bce6-b05f68e2f293",
   "metadata": {},
   "source": [
    "# Spool: Seismic Dataset Management and Retrieval\n",
    "\n",
    "**Spool** is a Python class that grabs seismic traces from .SAC files from a given time range. It then organizes them in a \"Template\" format, including a 2D array of seismic traces $[n_{traces}, n_{samples}]$ and a metadata file for each request.\n",
    "\n",
    "**Key Assumptions:**\n",
    "1) Constant sample rate across all files.\n",
    "2) Equal file lengths.\n",
    "3) Continuous coverage for each station over requested time ranges. Spool assumes SAC files are perfectly contiguous."
   ]
  },
  {
   "cell_type": "code",
   "execution_count": 1,
   "id": "f17ba2b3-874f-47a3-949b-8cb92d9c039d",
   "metadata": {},
   "outputs": [
    {
     "ename": "ModuleNotFoundError",
     "evalue": "No module named 'obspy'",
     "output_type": "error",
     "traceback": [
      "\u001b[0;31m---------------------------------------------------------------------------\u001b[0m",
      "\u001b[0;31mModuleNotFoundError\u001b[0m                       Traceback (most recent call last)",
      "Cell \u001b[0;32mIn[1], line 1\u001b[0m\n\u001b[0;32m----> 1\u001b[0m \u001b[38;5;28;01mimport\u001b[39;00m\u001b[38;5;250m \u001b[39m\u001b[38;5;21;01mcatalog_management\u001b[39;00m\u001b[38;5;250m \u001b[39m\u001b[38;5;28;01mas\u001b[39;00m\u001b[38;5;250m \u001b[39m\u001b[38;5;21;01mcm\u001b[39;00m\n\u001b[1;32m      2\u001b[0m \u001b[38;5;28;01mfrom\u001b[39;00m\u001b[38;5;250m \u001b[39m\u001b[38;5;21;01mSpool\u001b[39;00m\u001b[38;5;250m \u001b[39m\u001b[38;5;28;01mimport\u001b[39;00m spool\n\u001b[1;32m      3\u001b[0m \u001b[38;5;28;01mfrom\u001b[39;00m\u001b[38;5;250m \u001b[39m\u001b[38;5;21;01mreaders\u001b[39;00m\u001b[38;5;250m \u001b[39m\u001b[38;5;28;01mimport\u001b[39;00m reader\n",
      "File \u001b[0;32m~/Work/SPOOL/catalog_management.py:1\u001b[0m\n\u001b[0;32m----> 1\u001b[0m \u001b[38;5;28;01mfrom\u001b[39;00m\u001b[38;5;250m \u001b[39m\u001b[38;5;21;01mobspy\u001b[39;00m\u001b[38;5;250m \u001b[39m\u001b[38;5;28;01mimport\u001b[39;00m read\n\u001b[1;32m      2\u001b[0m \u001b[38;5;28;01mfrom\u001b[39;00m\u001b[38;5;250m \u001b[39m\u001b[38;5;21;01mglob\u001b[39;00m\u001b[38;5;250m \u001b[39m\u001b[38;5;28;01mimport\u001b[39;00m glob\n\u001b[1;32m      3\u001b[0m \u001b[38;5;28;01mimport\u001b[39;00m\u001b[38;5;250m \u001b[39m\u001b[38;5;21;01mpandas\u001b[39;00m\u001b[38;5;250m \u001b[39m\u001b[38;5;28;01mas\u001b[39;00m\u001b[38;5;250m \u001b[39m\u001b[38;5;21;01mpd\u001b[39;00m\n",
      "\u001b[0;31mModuleNotFoundError\u001b[0m: No module named 'obspy'"
     ]
    }
   ],
   "source": [
    "import catalog_management as cm\n",
    "from Spool import spool\n",
    "from readers import reader\n",
    "\n",
    "import numpy as np\n",
    "from datetime import datetime"
   ]
  },
  {
   "cell_type": "markdown",
   "id": "5e997ed9-7bec-4e33-862e-b9f86f7bd1af",
   "metadata": {},
   "source": [
    "## Inputs\n",
    "\n",
    "1) catalog Dataframe *df* \n",
    "\n",
    "2) *reader* function\n",
    "\n",
    "\n",
    "4) sample rate *sr*\n",
    "   \n",
    "6) SAC header attributes to save *desired_sac_headers* (optional)\n",
    "7) boolean *cached_headers* set True for efficiency (optional)\n",
    "8) *station_index* dict of cached station-channel file ranges (optional)\n",
    "9) *file_duration* in seconds of each file (optional)\n",
    "\n",
    "## Example Workflow"
   ]
  },
  {
   "cell_type": "code",
   "execution_count": null,
   "id": "c49f2198-2637-40f2-848f-ea6096564636",
   "metadata": {},
   "outputs": [],
   "source": [
    "#define root folder\n",
    "root_folder = '../Data'\n",
    "\n",
    "# construct catalog using catalog_management module\n",
    "catalog = cm.make_catalog_from_root(root_folder, to_file=True, filename='test_data_catalog.csv')\n",
    "\n",
    "# initiate spool using data catalog and reader function (imported from readers)\n",
    "sp = spool(catalog, reader, sr=200.0)\n",
    "\n",
    "# define start and end time of data to grab\n",
    "starttime = np.datetime64(\"2008-12-10T05:59:55\")\n",
    "endtime = np.datetime64(\"2008-12-10T06:00:15\")\n",
    "\n",
    "merged_data_array, selected_catalog_catalog = sp.get_data(starttime, endtime, save_dir='Test', save_metadata=True)"
   ]
  },
  {
   "cell_type": "code",
   "execution_count": null,
   "id": "b533f363-e637-4196-94ff-5686b289cd8f",
   "metadata": {},
   "outputs": [],
   "source": []
  }
 ],
 "metadata": {
  "kernelspec": {
   "display_name": ".venv",
   "language": "python",
   "name": "python3"
  },
  "language_info": {
   "codemirror_mode": {
    "name": "ipython",
    "version": 3
   },
   "file_extension": ".py",
   "mimetype": "text/x-python",
   "name": "python",
   "nbconvert_exporter": "python",
   "pygments_lexer": "ipython3",
   "version": "3.8.2"
  }
 },
 "nbformat": 4,
 "nbformat_minor": 5
}
